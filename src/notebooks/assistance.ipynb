{
 "cells": [
  {
   "cell_type": "markdown",
   "id": "a75c6a1b",
   "metadata": {},
   "source": [
    "## Clustering for Agency Financial Efficiency"
   ]
  },
  {
   "cell_type": "code",
   "execution_count": 1,
   "id": "b18891af",
   "metadata": {},
   "outputs": [],
   "source": [
    "# Library imports\n",
    "import pandas as pd\n",
    "import numpy as np\n",
    "import os\n",
    "from pathlib import Path"
   ]
  },
  {
   "cell_type": "code",
   "execution_count": 2,
   "id": "780dd416",
   "metadata": {},
   "outputs": [],
   "source": [
    "# Set the base path for input data files\n",
    "CURRENT_DIR = Path().resolve()\n",
    "DATA_BASE_PATH = CURRENT_DIR.parent / \"outputs\" / \"data_output\""
   ]
  },
  {
   "cell_type": "code",
   "execution_count": 3,
   "id": "f93d6d05",
   "metadata": {},
   "outputs": [],
   "source": [
    "# set the path for the modeling data file\n",
    "output_dir = os.path.join(\"..\", \"outputs\", \"model_output\")\n",
    "os.makedirs(output_dir, exist_ok=True)"
   ]
  },
  {
   "cell_type": "code",
   "execution_count": 4,
   "id": "150e4518",
   "metadata": {},
   "outputs": [],
   "source": [
    "# Load data\n",
    "df = pd.read_csv(\"../outputs/data_output/Financial_Cleaned.csv\")"
   ]
  },
  {
   "cell_type": "code",
   "execution_count": 5,
   "id": "526eb6c7",
   "metadata": {},
   "outputs": [],
   "source": [
    "# Remove rows with very low or zero required resources to avoid ratio distortion\n",
    "df = df[df['Total required resources'] > 0].copy()\n",
    "\n",
    "# Drop rows with any nulls in financial columns\n",
    "df.dropna(subset=[\n",
    "    'Total required resources', 'Total available resources', 'Total expenditure resources'\n",
    "], inplace=True)\n",
    "\n",
    "# Clip large values to prevent outlier distortion\n",
    "df['Total required resources'] = df['Total required resources'].clip(upper=df['Total required resources'].quantile(0.99))\n",
    "df['Total available resources'] = df['Total available resources'].clip(upper=df['Total available resources'].quantile(0.99))\n",
    "df['Total expenditure resources'] = df['Total expenditure resources'].clip(upper=df['Total expenditure resources'].quantile(0.99))"
   ]
  },
  {
   "cell_type": "code",
   "execution_count": 6,
   "id": "95e14ced",
   "metadata": {},
   "outputs": [],
   "source": [
    "# Compute financial efficiency ratios\n",
    "df['Avail_per_Req'] = df['Total available resources'] / (df['Total required resources'] + 1)\n",
    "df['Exp_per_Req'] = df['Total expenditure resources'] / (df['Total required resources'] + 1)\n",
    "\n",
    "# Log-transform to compress scale and reduce skew\n",
    "df['log_Req'] = np.log1p(df['Total required resources'])\n",
    "df['log_Avail_per_Req'] = np.log1p(df['Avail_per_Req'])\n",
    "df['log_Exp_per_Req'] = np.log1p(df['Exp_per_Req'])\n",
    "\n",
    "# Optional: normalize agency count per SP_Label (if repeated agencies exist)\n",
    "df['Agency_Count'] = df['Agencies'].apply(lambda x: len(str(x).split(\";\")) if pd.notnull(x) else 1)"
   ]
  },
  {
   "cell_type": "code",
   "execution_count": 7,
   "id": "89162c7e",
   "metadata": {},
   "outputs": [],
   "source": [
    "from sklearn.preprocessing import StandardScaler\n",
    "\n",
    "# Select final features\n",
    "feature_cols = ['log_Req', 'log_Avail_per_Req', 'log_Exp_per_Req']\n",
    "X = df[feature_cols]\n",
    "\n",
    "# Normalize features\n",
    "scaler = StandardScaler()\n",
    "X_scaled = scaler.fit_transform(X)"
   ]
  },
  {
   "cell_type": "code",
   "execution_count": 8,
   "id": "dcd2a57f",
   "metadata": {},
   "outputs": [
    {
     "name": "stdout",
     "output_type": "stream",
     "text": [
      "KMeans Score: 0.3198\n",
      "DBSCAN Score: 0.2510\n",
      "Agglomerative Score: 0.2405\n"
     ]
    }
   ],
   "source": [
    "from sklearn.cluster import KMeans, DBSCAN, AgglomerativeClustering\n",
    "from sklearn.metrics import silhouette_score\n",
    "\n",
    "models = {\n",
    "    \"KMeans\": KMeans(n_clusters=3, random_state=42),\n",
    "    \"DBSCAN\": DBSCAN(eps=0.5, min_samples=5),\n",
    "    \"Agglomerative\": AgglomerativeClustering(n_clusters=3)\n",
    "}\n",
    "\n",
    "for name, model in models.items():\n",
    "    try:\n",
    "        labels = model.fit_predict(X_scaled)\n",
    "        if len(set(labels)) > 1:\n",
    "            score = silhouette_score(X_scaled, labels)\n",
    "            print(f\"{name} Score: {score:.4f}\")\n",
    "        else:\n",
    "            print(f\"{name} only found one cluster.\")\n",
    "    except Exception as e:\n",
    "        print(f\"{name} failed: {e}\")"
   ]
  },
  {
   "cell_type": "code",
   "execution_count": 9,
   "id": "7ca93ff4",
   "metadata": {},
   "outputs": [
    {
     "name": "stdout",
     "output_type": "stream",
     "text": [
      "KMeans (k=2) Score: 0.2836\n",
      "KMeans (k=3) Score: 0.3198\n",
      "KMeans (k=4) Score: 0.3376\n",
      "KMeans (k=5) Score: 0.3019\n",
      "KMeans (k=6) Score: 0.2825\n"
     ]
    }
   ],
   "source": [
    "from sklearn.metrics import silhouette_score\n",
    "\n",
    "best_k = None\n",
    "best_score = -1\n",
    "for k in range(2, 7):\n",
    "    km = KMeans(n_clusters=k, random_state=42)\n",
    "    labels = km.fit_predict(X_scaled)\n",
    "    score = silhouette_score(X_scaled, labels)\n",
    "    print(f\"KMeans (k={k}) Score: {score:.4f}\")\n",
    "    if score > best_score:\n",
    "        best_score = score\n",
    "        best_k = k"
   ]
  },
  {
   "cell_type": "code",
   "execution_count": 10,
   "id": "bd75f7d2",
   "metadata": {},
   "outputs": [],
   "source": [
    "from sklearn.cluster import KMeans\n",
    "from sklearn.metrics import silhouette_score\n",
    "\n",
    "# Best k\n",
    "best_k = 4\n",
    "\n",
    "# Final clustering\n",
    "kmeans = KMeans(n_clusters=best_k, random_state=42)\n",
    "df['Cluster'] = kmeans.fit_predict(X_scaled)"
   ]
  },
  {
   "cell_type": "code",
   "execution_count": 11,
   "id": "648a2df8",
   "metadata": {},
   "outputs": [
    {
     "data": {
      "text/html": [
       "<div>\n",
       "<style scoped>\n",
       "    .dataframe tbody tr th:only-of-type {\n",
       "        vertical-align: middle;\n",
       "    }\n",
       "\n",
       "    .dataframe tbody tr th {\n",
       "        vertical-align: top;\n",
       "    }\n",
       "\n",
       "    .dataframe thead th {\n",
       "        text-align: right;\n",
       "    }\n",
       "</style>\n",
       "<table border=\"1\" class=\"dataframe\">\n",
       "  <thead>\n",
       "    <tr style=\"text-align: right;\">\n",
       "      <th></th>\n",
       "      <th>Total required resources</th>\n",
       "      <th>Total available resources</th>\n",
       "      <th>Total expenditure resources</th>\n",
       "      <th>Avail_per_Req</th>\n",
       "      <th>Exp_per_Req</th>\n",
       "    </tr>\n",
       "    <tr>\n",
       "      <th>Cluster</th>\n",
       "      <th></th>\n",
       "      <th></th>\n",
       "      <th></th>\n",
       "      <th></th>\n",
       "      <th></th>\n",
       "    </tr>\n",
       "  </thead>\n",
       "  <tbody>\n",
       "    <tr>\n",
       "      <th>0</th>\n",
       "      <td>1.221672e+09</td>\n",
       "      <td>9.344307e+08</td>\n",
       "      <td>5.364948e+08</td>\n",
       "      <td>0.81</td>\n",
       "      <td>0.47</td>\n",
       "    </tr>\n",
       "    <tr>\n",
       "      <th>1</th>\n",
       "      <td>1.175888e+07</td>\n",
       "      <td>1.551151e+07</td>\n",
       "      <td>1.341804e+07</td>\n",
       "      <td>1.31</td>\n",
       "      <td>0.93</td>\n",
       "    </tr>\n",
       "    <tr>\n",
       "      <th>2</th>\n",
       "      <td>8.811023e+06</td>\n",
       "      <td>7.969604e+06</td>\n",
       "      <td>8.196898e+05</td>\n",
       "      <td>0.87</td>\n",
       "      <td>0.15</td>\n",
       "    </tr>\n",
       "    <tr>\n",
       "      <th>3</th>\n",
       "      <td>2.323484e+08</td>\n",
       "      <td>5.753052e+07</td>\n",
       "      <td>1.896923e+07</td>\n",
       "      <td>0.24</td>\n",
       "      <td>0.11</td>\n",
       "    </tr>\n",
       "  </tbody>\n",
       "</table>\n",
       "</div>"
      ],
      "text/plain": [
       "         Total required resources  Total available resources  \\\n",
       "Cluster                                                        \n",
       "0                    1.221672e+09               9.344307e+08   \n",
       "1                    1.175888e+07               1.551151e+07   \n",
       "2                    8.811023e+06               7.969604e+06   \n",
       "3                    2.323484e+08               5.753052e+07   \n",
       "\n",
       "         Total expenditure resources  Avail_per_Req  Exp_per_Req  \n",
       "Cluster                                                           \n",
       "0                       5.364948e+08           0.81         0.47  \n",
       "1                       1.341804e+07           1.31         0.93  \n",
       "2                       8.196898e+05           0.87         0.15  \n",
       "3                       1.896923e+07           0.24         0.11  "
      ]
     },
     "execution_count": 11,
     "metadata": {},
     "output_type": "execute_result"
    }
   ],
   "source": [
    "# Label clusters for interpretability\n",
    "cluster_summary = df.groupby('Cluster')[\n",
    "    ['Total required resources', 'Total available resources', 'Total expenditure resources',\n",
    "     'Avail_per_Req', 'Exp_per_Req']\n",
    "].mean().round(2)\n",
    "\n",
    "cluster_summary"
   ]
  },
  {
   "cell_type": "code",
   "execution_count": 12,
   "id": "acc96442",
   "metadata": {},
   "outputs": [],
   "source": [
    "def label_cluster(row):\n",
    "    if row['Cluster'] == 1:\n",
    "        return \"Top Performer\"\n",
    "    elif row['Cluster'] == 0:\n",
    "        return \"Low Performer\"\n",
    "    elif row['Cluster'] == 2:\n",
    "        return \"Execution Gap\"\n",
    "    elif row['Cluster'] == 3:\n",
    "        return \"Moderate Performer\"\n",
    "    else:\n",
    "        return \"Unlabeled\"\n",
    "\n",
    "df['Performance_Label'] = df.apply(label_cluster, axis=1)"
   ]
  },
  {
   "cell_type": "code",
   "execution_count": 13,
   "id": "5dfd620c",
   "metadata": {},
   "outputs": [],
   "source": [
    "df.to_csv(\"../outputs/model_output/un_agency.csv\", index=False)"
   ]
  }
 ],
 "metadata": {
  "kernelspec": {
   "display_name": "ollama_env",
   "language": "python",
   "name": "python3"
  },
  "language_info": {
   "codemirror_mode": {
    "name": "ipython",
    "version": 3
   },
   "file_extension": ".py",
   "mimetype": "text/x-python",
   "name": "python",
   "nbconvert_exporter": "python",
   "pygments_lexer": "ipython3",
   "version": "3.11.13"
  }
 },
 "nbformat": 4,
 "nbformat_minor": 5
}
